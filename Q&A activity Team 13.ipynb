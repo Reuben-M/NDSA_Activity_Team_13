{
 "cells": [
  {
   "cell_type": "markdown",
   "metadata": {
    "id": "4z_Z-K1tlrS7"
   },
   "source": [
    "## 1. Complete the following code to find the area of an equilateral triangle. Output should be as displayed"
   ]
  },
  {
   "cell_type": "code",
   "execution_count": 11,
   "metadata": {
    "id": "rP2qFD_SlrS_"
   },
   "outputs": [
    {
     "name": "stdout",
     "output_type": "stream",
     "text": [
      "Enter the side of the equilateral triangle: 3\n",
      "The area of the Euilateral tringle is: 3.897\n"
     ]
    }
   ],
   "source": [
    "import math\n",
    "side = float(input(\"Enter the side of the equilateral triangle: \"))\n",
    "area = ((math.sqrt(3))/4)*pow(side,2)\n",
    "print(\"The area of the Euilateral tringle is:\",round(area,3))\n",
    "\n"
   ]
  },
  {
   "cell_type": "markdown",
   "metadata": {
    "id": "TjVKjIfclrTB"
   },
   "source": [
    "## 2. Write a program to count the number of each characters in a string"
   ]
  },
  {
   "cell_type": "code",
   "execution_count": 48,
   "metadata": {
    "id": "JY5seVUQlrTC"
   },
   "outputs": [
    {
     "name": "stdout",
     "output_type": "stream",
     "text": [
      "Enter a string value: Government\n",
      "The no. of characters in the string are:\n",
      "G = 1\n",
      "o = 1\n",
      "v = 1\n",
      "e = 2\n",
      "r = 1\n",
      "n = 2\n",
      "m = 1\n",
      "t = 1\n"
     ]
    }
   ],
   "source": [
    "string=input(\"Enter a string value: \")\n",
    "\n",
    "liststr=list(string)\n",
    "\n",
    "new_list=[]\n",
    "print(\"The no. of characters in the string are:\")\n",
    "\n",
    "for j in liststr:\n",
    "    if j not in new_list:\n",
    "        new_list.append(j)\n",
    "        count=0\n",
    "        \n",
    "        for i in liststr:\n",
    "            if j==i:\n",
    "                count+=1\n",
    "                \n",
    "        print(j,'=',count)"
   ]
  },
  {
   "cell_type": "markdown",
   "metadata": {
    "id": "l3LCULfklrTD"
   },
   "source": [
    "## 3.Write a program to find the area and perimeter of a rectangle using functions"
   ]
  },
  {
   "cell_type": "code",
   "execution_count": 1,
   "metadata": {
    "id": "8haQD8edlrTD"
   },
   "outputs": [
    {
     "name": "stdout",
     "output_type": "stream",
     "text": [
      "Enter the Length of the rectangle:4\n",
      "Enter the Breadth of the rectangle:2\n",
      "\n",
      "The Area of the Rectangle is: 8\n",
      "The Perimeter of the Rectangle is: 12\n"
     ]
    }
   ],
   "source": [
    "'''Write a program to find the area and perimeter of a rectangle using functions'''\n",
    "\n",
    "def area(length,breadth):\n",
    "    area=length*breadth\n",
    "    return area\n",
    "\n",
    "def perimeter(length,breadth):\n",
    "    peri=2*(length+breadth)\n",
    "    return peri\n",
    "\n",
    "length_1=int(input(\"Enter the Length of the rectangle:\"))\n",
    "breadth_1=int(input(\"Enter the Breadth of the rectangle:\"))\n",
    "\n",
    "print(\"\\nThe Area of the Rectangle is:\",area(length_1, breadth_1))\n",
    "print(\"The Perimeter of the Rectangle is:\",perimeter(length_1, breadth_1))"
   ]
  },
  {
   "cell_type": "markdown",
   "metadata": {
    "id": "JHK4ZdsflrTE"
   },
   "source": [
    "## 4. Write a program to print the fibonacci series till a specified number"
   ]
  },
  {
   "cell_type": "code",
   "execution_count": 11,
   "metadata": {
    "id": "LyBEj-4SlrTE"
   },
   "outputs": [
    {
     "name": "stdout",
     "output_type": "stream",
     "text": [
      "Enter a number:13\n",
      "Fibonacci Series: 0 1 1 2 3 5 8 13 "
     ]
    }
   ],
   "source": [
    "#program to print the fibonacci series till a specified number\n",
    "n=int(input(\"Enter a number:\"))\n",
    "\n",
    "a=0\n",
    "b=1\n",
    "sum=0\n",
    "\n",
    "print(\"Fibonacci Series:\",end=\" \")\n",
    "\n",
    "while (sum<=n):\n",
    "    print(sum,end=\" \")\n",
    "    \n",
    "    a=b\n",
    "    b=sum\n",
    "    sum=a+b"
   ]
  },
  {
   "cell_type": "markdown",
   "metadata": {
    "id": "u4uBUcQKlrTE"
   },
   "source": [
    "## 5. Complete the following code to find the minimum of 3 number using cinditional statements. Output should be as displayed"
   ]
  },
  {
   "cell_type": "code",
   "execution_count": 60,
   "metadata": {
    "id": "XdZwrZjIlrTF"
   },
   "outputs": [
    {
     "name": "stdout",
     "output_type": "stream",
     "text": [
      "Enter three numbers followed by each other: 2000 2 1\n",
      "First number  : 2000\n",
      "Second number : 2\n",
      "Third number  : 1\n",
      "1 is the smallest among the three numbers\n"
     ]
    }
   ],
   "source": [
    "a,b,c =map(int,input(\"Enter three numbers followed by each other: \").split())\n",
    "\n",
    "print(\"First number  :\",a)\n",
    "print(\"Second number :\",b)\n",
    "print(\"Third number  :\",c)\n",
    "\n",
    "if( a==b and b==c):\n",
    "    \n",
    "    print(\"The entered numbers are equal!!!\")\n",
    "      \n",
    "elif(a<b and a<c):\n",
    "    \n",
    "    print(a,\" is the smallest among the three numbers\")\n",
    "    \n",
    "elif(b<a and b<c):\n",
    "    \n",
    "    print(b,\" is the smallest among the three numbers\")\n",
    "        \n",
    "elif(c<a and c<b):\n",
    "    \n",
    "    print(c,\"is the smallest among the three numbers\")\n",
    "    "
   ]
  },
  {
   "cell_type": "markdown",
   "metadata": {
    "id": "aR_CnToWlrTG"
   },
   "source": [
    "## 6. Write a program to print star pyramind. The number of rows should be taken as input from the user"
   ]
  },
  {
   "cell_type": "code",
   "execution_count": 6,
   "metadata": {
    "id": "M37A-buplrTG"
   },
   "outputs": [
    {
     "name": "stdout",
     "output_type": "stream",
     "text": [
      "Enter the number of rows:6\n",
      "          * \n",
      "        * * * \n",
      "      * * * * * \n",
      "    * * * * * * * \n",
      "  * * * * * * * * * \n",
      "* * * * * * * * * * * \n"
     ]
    }
   ],
   "source": [
    "rows=int(input(\"Enter the number of rows:\"))\n",
    "k=0\n",
    "for i in range(1,rows+1):\n",
    "    for space in range(1,(rows-i)+1):\n",
    "        print(end=\"  \")\n",
    "    while k!=((2*i)-1):\n",
    "        print(\"*\",end=\" \")\n",
    "        k+=1\n",
    "    k=0\n",
    "    print()\n"
   ]
  },
  {
   "cell_type": "markdown",
   "metadata": {
    "id": "tlY6aFWBlrTH"
   },
   "source": [
    "## 7. Complete the following code to convert hour into seconds. Output should be as displayed"
   ]
  },
  {
   "cell_type": "code",
   "execution_count": 16,
   "metadata": {
    "id": "YOZQFk7FlrTH"
   },
   "outputs": [
    {
     "name": "stdout",
     "output_type": "stream",
     "text": [
      "Enter the time in hours: 1.5\n",
      "1.5 Hours is equal to 5400.0 Seconds\n"
     ]
    }
   ],
   "source": [
    "def to_seconds(t):\n",
    "    return t*3600\n",
    "time_in_hours = float(input('Enter the time in hours: ')) \n",
    "print(time_in_hours ,\"Hours is equal to\" ,to_seconds(time_in_hours) ,\"Seconds\")"
   ]
  },
  {
   "cell_type": "markdown",
   "metadata": {
    "id": "CnYorNiLlrTI"
   },
   "source": [
    "## 8. Write a program to print multiplication table as below"
   ]
  },
  {
   "cell_type": "code",
   "execution_count": 5,
   "metadata": {
    "id": "dPQqDPuDlrTI"
   },
   "outputs": [
    {
     "name": "stdout",
     "output_type": "stream",
     "text": [
      "Enter the number for multiplication:4\n",
      "4 * 1 = 4\n",
      "4 * 2 = 8\n",
      "4 * 3 = 12\n",
      "4 * 4 = 16\n",
      "4 * 5 = 20\n",
      "4 * 6 = 24\n",
      "4 * 7 = 28\n",
      "4 * 8 = 32\n",
      "4 * 9 = 36\n",
      "4 * 10 = 40\n"
     ]
    }
   ],
   "source": [
    "def multiply(n):\n",
    "    for i in range(1,11):\n",
    "        print(n,'*',i,'=',n*i)\n",
    "number=int(input('Enter the number for multiplication:'))\n",
    "multiply(number)"
   ]
  },
  {
   "cell_type": "markdown",
   "metadata": {
    "id": "Fiaez8iblrTI"
   },
   "source": [
    "## 9. Write a program to take your 5 favorite food as list and print each as 'I like Biriyani'"
   ]
  },
  {
   "cell_type": "code",
   "execution_count": 3,
   "metadata": {
    "id": "39W1zFX7lrTJ",
    "scrolled": true
   },
   "outputs": [
    {
     "name": "stdout",
     "output_type": "stream",
     "text": [
      "Enter 5 of your favorite food items one by one..:\n",
      "Chocolate Friedrice Cookies Noodles Biriyani\n",
      "Your Favorite food items are:\n",
      "['Chocolate', 'Friedrice', 'Cookies', 'Noodles', 'Biriyani']\n",
      "I like  Chocolate\n",
      "I like  Friedrice\n",
      "I like  Cookies\n",
      "I like  Noodles\n",
      "I like  Biriyani\n"
     ]
    }
   ],
   "source": [
    "food=input(\"Enter 5 of your favorite food items one by one..:\\n\").split()\n",
    "print(\"Your Favorite food items are:\")\n",
    "print(food)\n",
    "for i in food:\n",
    "    print('I like ',i)"
   ]
  },
  {
   "cell_type": "markdown",
   "metadata": {
    "id": "3vlcDNNEP7d_"
   },
   "source": [
    "## 10. Find error(s) in the following code(if any) and rewrite code.\n",
    "\n"
   ]
  },
  {
   "cell_type": "code",
   "execution_count": 29,
   "metadata": {
    "id": "coREkcY3P9sG"
   },
   "outputs": [
    {
     "name": "stdout",
     "output_type": "stream",
     "text": [
      "Enter the value of x:5\n",
      "5 and 0 are unequal\n",
      "5 and 1 are unequal\n",
      "5 and 2 are unequal\n",
      "5 and 3 are unequal\n",
      "5 and 4 are unequal\n",
      "5 and 5 are equal\n",
      "5 and 6 are unequal\n",
      "5 and 7 are unequal\n",
      "5 and 8 are unequal\n",
      "5 and 9 are unequal\n"
     ]
    }
   ],
   "source": [
    "x=int(input('Enter the value of x:'))\n",
    "\n",
    "for y in range(0,10):\n",
    "    if x==y:\n",
    "        print(x,'and',y,'are equal')\n",
    "      \n",
    "    else:\n",
    "        print(x,'and',y,'are unequal')"
   ]
  }
 ],
 "metadata": {
  "colab": {
   "collapsed_sections": [],
   "name": "Q&A activity student file.ipynb",
   "provenance": []
  },
  "kernelspec": {
   "display_name": "Python 3",
   "language": "python",
   "name": "python3"
  },
  "language_info": {
   "codemirror_mode": {
    "name": "ipython",
    "version": 3
   },
   "file_extension": ".py",
   "mimetype": "text/x-python",
   "name": "python",
   "nbconvert_exporter": "python",
   "pygments_lexer": "ipython3",
   "version": "3.8.8"
  }
 },
 "nbformat": 4,
 "nbformat_minor": 1
}
